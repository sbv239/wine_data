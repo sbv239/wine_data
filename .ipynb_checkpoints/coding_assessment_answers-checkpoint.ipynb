{
 "cells": [
  {
   "cell_type": "markdown",
   "metadata": {},
   "source": [
    "# Beginner Python Coding Assessment\n",
    "\n",
    "## Assignment Overview:\n",
    "\n",
    "Welcome to your Python coding assessment! In this assignment, you will be working with the famous Wine dataset from Kaggle. Your task is to perform Exploratory Data Analysis (EDA), develop a predictive model, and evaluate its performance. However, before we begin, you need to download the dataset from Kaggle using web scraping.\n",
    "\n",
    "**Instructions:**\n",
    "1. Go to the [Wine Reviews dataset on Kaggle](https://www.kaggle.com/zynicide/wine-reviews).\n",
    "2. Download the dataset in CSV format.\n",
    "3. Save the downloaded CSV file in the same directory as this Jupyter notebook.\n",
    "\n",
    "Now, let's proceed with the analysis.\n",
    "\n",
    "---\n",
    "\n",
    "## Step 1: Load the Dataset"
   ]
  },
  {
   "cell_type": "code",
   "execution_count": null,
   "metadata": {},
   "outputs": [],
   "source": [
    "# Placeholder for loading the dataset\n",
    "import pandas as pd\n",
    "\n",
    "# Replace 'path/to/your/dataset.csv' with the actual path to your dataset file\n",
    "wine_data = pd.read_csv(\"path/to/your/dataset.csv\")\n",
    "\n",
    "# Display the first few rows of the dataset\n",
    "wine_data.head()"
   ]
  },
  {
   "cell_type": "markdown",
   "metadata": {},
   "source": [
    "## Step 2: Exploratory Data Analysis (EDA)"
   ]
  },
  {
   "cell_type": "code",
   "execution_count": null,
   "metadata": {},
   "outputs": [],
   "source": [
    "# Placeholder for EDA\n",
    "import seaborn as sns\n",
    "import matplotlib.pyplot as plt\n",
    "\n",
    "# TODO: Display summary statistics\n",
    "# TODO: Display data types and missing values\n",
    "# TODO: Plot distribution of the target variable\n",
    "# TODO: Create a correlation heatmap\n"
   ]
  }
 ],
 "metadata": {
  "language_info": {
   "name": "python"
  }
 },
 "nbformat": 4,
 "nbformat_minor": 2
}
